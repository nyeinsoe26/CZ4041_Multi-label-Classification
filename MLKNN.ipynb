{
 "cells": [
  {
   "cell_type": "code",
   "execution_count": 70,
   "metadata": {},
   "outputs": [],
   "source": [
    "import pandas as pd\n",
    "import numpy as np\n",
    "from skmultilearn.adapt import MLkNN"
   ]
  },
  {
   "cell_type": "code",
   "execution_count": 71,
   "metadata": {},
   "outputs": [],
   "source": [
    "emotions = pd.read_csv(\"emotions.csv\")"
   ]
  },
  {
   "cell_type": "code",
   "execution_count": 72,
   "metadata": {},
   "outputs": [
    {
     "name": "stdout",
     "output_type": "stream",
     "text": [
      "Shape of training data: (474, 78)\n",
      "Shape of test data: (119, 78)\n"
     ]
    }
   ],
   "source": [
    "#splitting the full dataset into 8:2 ratio for train/test\n",
    "from sklearn.model_selection import train_test_split\n",
    "train, test = train_test_split(emotions, random_state=42, test_size=0.20, shuffle=True)\n",
    "\n",
    "print(\"Shape of training data: {}\".format(train.shape))\n",
    "print(\"Shape of test data: {}\".format(test.shape))"
   ]
  },
  {
   "cell_type": "code",
   "execution_count": 73,
   "metadata": {},
   "outputs": [],
   "source": [
    "x_train = train.iloc[:,0:72]\n",
    "y_train = train.iloc[:,-6:]\n",
    "x_train = x_train.to_numpy()\n",
    "y_train = y_train.to_numpy()\n",
    "\n",
    "x_test = test.iloc[:,0:72]\n",
    "y_test = test.iloc[:,-6:]\n",
    "y_test = y_test.to_numpy()\n",
    "x_test = x_test.to_numpy()"
   ]
  },
  {
   "cell_type": "code",
   "execution_count": 74,
   "metadata": {},
   "outputs": [],
   "source": [
    "classifier = MLkNN()\n",
    "\n",
    "# train\n",
    "classifier.fit(x_train, y_train)\n",
    "\n",
    "# predict\n",
    "predictions = classifier.predict(x_test)"
   ]
  },
  {
   "cell_type": "code",
   "execution_count": 75,
   "metadata": {},
   "outputs": [
    {
     "name": "stdout",
     "output_type": "stream",
     "text": [
      "Exact match score (Whole row must match): 0.15966386554621848\n",
      "Hamming score (Individual label predictions): 0.7464985994397759\n"
     ]
    }
   ],
   "source": [
    "#Calculate score\n",
    "exact_match_score = np.all(predictions == y_test, axis=1).mean()\n",
    "hamming_score = (predictions == y_test).mean()\n",
    "print('Exact match score (Whole row must match):', exact_match_score)\n",
    "print('Hamming score (Individual label predictions):', hamming_score)"
   ]
  }
 ],
 "metadata": {
  "kernelspec": {
   "display_name": "tf-cpu",
   "language": "python",
   "name": "tf-cpu"
  },
  "language_info": {
   "codemirror_mode": {
    "name": "ipython",
    "version": 3
   },
   "file_extension": ".py",
   "mimetype": "text/x-python",
   "name": "python",
   "nbconvert_exporter": "python",
   "pygments_lexer": "ipython3",
   "version": "3.7.6"
  }
 },
 "nbformat": 4,
 "nbformat_minor": 4
}
